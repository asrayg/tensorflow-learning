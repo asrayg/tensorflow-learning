{
  "nbformat": 4,
  "nbformat_minor": 0,
  "metadata": {
    "colab": {
      "provenance": []
    },
    "kernelspec": {
      "name": "python3",
      "display_name": "Python 3"
    },
    "accelerator": "GPU"
  },
  "cells": [
    {
      "cell_type": "code",
      "metadata": {
        "id": "5KiCCBsIkMHi",
        "colab": {
          "base_uri": "https://localhost:8080/"
        },
        "outputId": "2b0ab965-8c4a-4336-ad9f-869713c1a631"
      },
      "source": [
        "vocab = {}\n",
        "word_encoding = 1\n",
        "def bag_of_words(text):\n",
        "  global word_encoding\n",
        "\n",
        "  words = text.lower().split(\" \")\n",
        "  bag = {}\n",
        "\n",
        "  for word in words:\n",
        "    if word in vocab:\n",
        "      encoding = vocab[word]\n",
        "    else:\n",
        "      vocab[word] = word_encoding\n",
        "      encoding = word_encoding\n",
        "      word_encoding += 1\n",
        "\n",
        "    if encoding in bag:\n",
        "      bag[encoding] += 1\n",
        "    else:\n",
        "      bag[encoding] = 1\n",
        "\n",
        "  return bag\n",
        "\n",
        "text = \"this is a test to see if this test will work is is test a a\"\n",
        "bag = bag_of_words(text)\n",
        "print(bag)\n",
        "print(vocab)"
      ],
      "execution_count": 1,
      "outputs": [
        {
          "output_type": "stream",
          "name": "stdout",
          "text": [
            "{1: 2, 2: 3, 3: 3, 4: 3, 5: 1, 6: 1, 7: 1, 8: 1, 9: 1}\n",
            "{'this': 1, 'is': 2, 'a': 3, 'test': 4, 'to': 5, 'see': 6, 'if': 7, 'will': 8, 'work': 9}\n"
          ]
        }
      ]
    },
    {
      "cell_type": "code",
      "metadata": {
        "id": "miYshfvzmJ0H",
        "colab": {
          "base_uri": "https://localhost:8080/"
        },
        "outputId": "9ab833a9-41c2-4332-88bf-b62904259653"
      },
      "source": [
        "positive_review = \"I thought the movie was going to be bad but it was actually amazing\"\n",
        "negative_review = \"I thought the movie was going to be amazing but it was actually bad\"\n",
        "\n",
        "pos_bag = bag_of_words(positive_review)\n",
        "neg_bag = bag_of_words(negative_review)\n",
        "\n",
        "print(\"Positive:\", pos_bag)\n",
        "print(\"Negative:\", neg_bag)"
      ],
      "execution_count": 2,
      "outputs": [
        {
          "output_type": "stream",
          "name": "stdout",
          "text": [
            "Positive: {10: 1, 11: 1, 12: 1, 13: 1, 14: 2, 15: 1, 5: 1, 16: 1, 17: 1, 18: 1, 19: 1, 20: 1, 21: 1}\n",
            "Negative: {10: 1, 11: 1, 12: 1, 13: 1, 14: 2, 15: 1, 5: 1, 16: 1, 21: 1, 18: 1, 19: 1, 20: 1, 17: 1}\n"
          ]
        }
      ]
    },
    {
      "cell_type": "code",
      "metadata": {
        "id": "MKY4y_tjnUEW",
        "colab": {
          "base_uri": "https://localhost:8080/"
        },
        "outputId": "62b31478-d597-449e-a5d3-eb22ecb76c2c"
      },
      "source": [
        "vocab = {}\n",
        "word_encoding = 1\n",
        "def one_hot_encoding(text):\n",
        "  global word_encoding\n",
        "\n",
        "  words = text.lower().split(\" \")\n",
        "  encoding = []\n",
        "\n",
        "  for word in words:\n",
        "    if word in vocab:\n",
        "      code = vocab[word]\n",
        "      encoding.append(code)\n",
        "    else:\n",
        "      vocab[word] = word_encoding\n",
        "      encoding.append(word_encoding)\n",
        "      word_encoding += 1\n",
        "\n",
        "  return encoding\n",
        "\n",
        "text = \"this is a test to see if this test will work is is test a a\"\n",
        "encoding = one_hot_encoding(text)\n",
        "print(encoding)\n",
        "print(vocab)"
      ],
      "execution_count": 3,
      "outputs": [
        {
          "output_type": "stream",
          "name": "stdout",
          "text": [
            "[1, 2, 3, 4, 5, 6, 7, 1, 4, 8, 9, 2, 2, 4, 3, 3]\n",
            "{'this': 1, 'is': 2, 'a': 3, 'test': 4, 'to': 5, 'see': 6, 'if': 7, 'will': 8, 'work': 9}\n"
          ]
        }
      ]
    },
    {
      "cell_type": "code",
      "metadata": {
        "id": "1S-GNjotn-Br",
        "colab": {
          "base_uri": "https://localhost:8080/"
        },
        "outputId": "063fab16-701e-42a3-e375-a7e28c9ec182"
      },
      "source": [
        "positive_review = \"I thought the movie was going to be bad but it was actually amazing\"\n",
        "negative_review = \"I thought the movie was going to be amazing but it was actually bad\"\n",
        "\n",
        "pos_encode = one_hot_encoding(positive_review)\n",
        "neg_encode = one_hot_encoding(negative_review)\n",
        "\n",
        "print(\"Positive:\", pos_encode)\n",
        "print(\"Negative:\", neg_encode)"
      ],
      "execution_count": 4,
      "outputs": [
        {
          "output_type": "stream",
          "name": "stdout",
          "text": [
            "Positive: [10, 11, 12, 13, 14, 15, 5, 16, 17, 18, 19, 14, 20, 21]\n",
            "Negative: [10, 11, 12, 13, 14, 15, 5, 16, 21, 18, 19, 14, 20, 17]\n"
          ]
        }
      ]
    },
    {
      "cell_type": "code",
      "metadata": {
        "id": "pdsus1kyXWC8",
        "colab": {
          "base_uri": "https://localhost:8080/"
        },
        "outputId": "531cd2d3-75fe-4f1c-99d4-1cc8196069d8"
      },
      "source": [
        "%tensorflow_version 2.x\n",
        "from keras.datasets import imdb\n",
        "from keras.preprocessing import sequence\n",
        "import keras\n",
        "import tensorflow as tf\n",
        "import os\n",
        "import numpy as np\n",
        "\n",
        "VOCAB_SIZE = 88584\n",
        "\n",
        "MAXLEN = 250\n",
        "BATCH_SIZE = 64\n",
        "\n",
        "(train_data, train_labels), (test_data, test_labels) = imdb.load_data(num_words = VOCAB_SIZE)"
      ],
      "execution_count": 5,
      "outputs": [
        {
          "output_type": "stream",
          "name": "stdout",
          "text": [
            "Colab only includes TensorFlow 2.x; %tensorflow_version has no effect.\n",
            "Downloading data from https://storage.googleapis.com/tensorflow/tf-keras-datasets/imdb.npz\n",
            "17464789/17464789 [==============================] - 0s 0us/step\n"
          ]
        }
      ]
    },
    {
      "cell_type": "code",
      "metadata": {
        "id": "Wh6lOpcQ9sIZ",
        "colab": {
          "base_uri": "https://localhost:8080/"
        },
        "outputId": "8bfb3e01-54c3-4a03-af10-d02ac15e4433"
      },
      "source": [
        "train_data[1]"
      ],
      "execution_count": 6,
      "outputs": [
        {
          "output_type": "execute_result",
          "data": {
            "text/plain": [
              "[1,\n",
              " 194,\n",
              " 1153,\n",
              " 194,\n",
              " 8255,\n",
              " 78,\n",
              " 228,\n",
              " 5,\n",
              " 6,\n",
              " 1463,\n",
              " 4369,\n",
              " 5012,\n",
              " 134,\n",
              " 26,\n",
              " 4,\n",
              " 715,\n",
              " 8,\n",
              " 118,\n",
              " 1634,\n",
              " 14,\n",
              " 394,\n",
              " 20,\n",
              " 13,\n",
              " 119,\n",
              " 954,\n",
              " 189,\n",
              " 102,\n",
              " 5,\n",
              " 207,\n",
              " 110,\n",
              " 3103,\n",
              " 21,\n",
              " 14,\n",
              " 69,\n",
              " 188,\n",
              " 8,\n",
              " 30,\n",
              " 23,\n",
              " 7,\n",
              " 4,\n",
              " 249,\n",
              " 126,\n",
              " 93,\n",
              " 4,\n",
              " 114,\n",
              " 9,\n",
              " 2300,\n",
              " 1523,\n",
              " 5,\n",
              " 647,\n",
              " 4,\n",
              " 116,\n",
              " 9,\n",
              " 35,\n",
              " 8163,\n",
              " 4,\n",
              " 229,\n",
              " 9,\n",
              " 340,\n",
              " 1322,\n",
              " 4,\n",
              " 118,\n",
              " 9,\n",
              " 4,\n",
              " 130,\n",
              " 4901,\n",
              " 19,\n",
              " 4,\n",
              " 1002,\n",
              " 5,\n",
              " 89,\n",
              " 29,\n",
              " 952,\n",
              " 46,\n",
              " 37,\n",
              " 4,\n",
              " 455,\n",
              " 9,\n",
              " 45,\n",
              " 43,\n",
              " 38,\n",
              " 1543,\n",
              " 1905,\n",
              " 398,\n",
              " 4,\n",
              " 1649,\n",
              " 26,\n",
              " 6853,\n",
              " 5,\n",
              " 163,\n",
              " 11,\n",
              " 3215,\n",
              " 10156,\n",
              " 4,\n",
              " 1153,\n",
              " 9,\n",
              " 194,\n",
              " 775,\n",
              " 7,\n",
              " 8255,\n",
              " 11596,\n",
              " 349,\n",
              " 2637,\n",
              " 148,\n",
              " 605,\n",
              " 15358,\n",
              " 8003,\n",
              " 15,\n",
              " 123,\n",
              " 125,\n",
              " 68,\n",
              " 23141,\n",
              " 6853,\n",
              " 15,\n",
              " 349,\n",
              " 165,\n",
              " 4362,\n",
              " 98,\n",
              " 5,\n",
              " 4,\n",
              " 228,\n",
              " 9,\n",
              " 43,\n",
              " 36893,\n",
              " 1157,\n",
              " 15,\n",
              " 299,\n",
              " 120,\n",
              " 5,\n",
              " 120,\n",
              " 174,\n",
              " 11,\n",
              " 220,\n",
              " 175,\n",
              " 136,\n",
              " 50,\n",
              " 9,\n",
              " 4373,\n",
              " 228,\n",
              " 8255,\n",
              " 5,\n",
              " 25249,\n",
              " 656,\n",
              " 245,\n",
              " 2350,\n",
              " 5,\n",
              " 4,\n",
              " 9837,\n",
              " 131,\n",
              " 152,\n",
              " 491,\n",
              " 18,\n",
              " 46151,\n",
              " 32,\n",
              " 7464,\n",
              " 1212,\n",
              " 14,\n",
              " 9,\n",
              " 6,\n",
              " 371,\n",
              " 78,\n",
              " 22,\n",
              " 625,\n",
              " 64,\n",
              " 1382,\n",
              " 9,\n",
              " 8,\n",
              " 168,\n",
              " 145,\n",
              " 23,\n",
              " 4,\n",
              " 1690,\n",
              " 15,\n",
              " 16,\n",
              " 4,\n",
              " 1355,\n",
              " 5,\n",
              " 28,\n",
              " 6,\n",
              " 52,\n",
              " 154,\n",
              " 462,\n",
              " 33,\n",
              " 89,\n",
              " 78,\n",
              " 285,\n",
              " 16,\n",
              " 145,\n",
              " 95]"
            ]
          },
          "metadata": {},
          "execution_count": 6
        }
      ]
    },
    {
      "cell_type": "code",
      "metadata": {
        "id": "Z3qQ83sNeog6"
      },
      "source": [
        "train_data = sequence.pad_sequences(train_data, MAXLEN)\n",
        "test_data = sequence.pad_sequences(test_data, MAXLEN)"
      ],
      "execution_count": 7,
      "outputs": []
    },
    {
      "cell_type": "code",
      "metadata": {
        "id": "OWGGcBIpjrMu"
      },
      "source": [
        "model = tf.keras.Sequential([\n",
        "    tf.keras.layers.Embedding(VOCAB_SIZE, 32),\n",
        "    tf.keras.layers.LSTM(32),\n",
        "    tf.keras.layers.Dense(1, activation=\"sigmoid\")\n",
        "])"
      ],
      "execution_count": 8,
      "outputs": []
    },
    {
      "cell_type": "code",
      "metadata": {
        "id": "O8_jPL_Kkr-a",
        "colab": {
          "base_uri": "https://localhost:8080/"
        },
        "outputId": "9c67b206-bb2f-4ca1-f9f4-e447cdd883c5"
      },
      "source": [
        "model.summary()"
      ],
      "execution_count": 9,
      "outputs": [
        {
          "output_type": "stream",
          "name": "stdout",
          "text": [
            "Model: \"sequential\"\n",
            "_________________________________________________________________\n",
            " Layer (type)                Output Shape              Param #   \n",
            "=================================================================\n",
            " embedding (Embedding)       (None, None, 32)          2834688   \n",
            "                                                                 \n",
            " lstm (LSTM)                 (None, 32)                8320      \n",
            "                                                                 \n",
            " dense (Dense)               (None, 1)                 33        \n",
            "                                                                 \n",
            "=================================================================\n",
            "Total params: 2843041 (10.85 MB)\n",
            "Trainable params: 2843041 (10.85 MB)\n",
            "Non-trainable params: 0 (0.00 Byte)\n",
            "_________________________________________________________________\n"
          ]
        }
      ]
    },
    {
      "cell_type": "code",
      "metadata": {
        "id": "KKEMjaIulPBe",
        "colab": {
          "base_uri": "https://localhost:8080/"
        },
        "outputId": "5e80d519-bfe5-4f80-b5b0-6244a9ffd043"
      },
      "source": [
        "model.compile(loss=\"binary_crossentropy\",optimizer=\"rmsprop\",metrics=['acc'])\n",
        "\n",
        "history = model.fit(train_data, train_labels, epochs=10, validation_split=0.2)"
      ],
      "execution_count": 10,
      "outputs": [
        {
          "output_type": "stream",
          "name": "stdout",
          "text": [
            "Epoch 1/10\n",
            "625/625 [==============================] - 48s 72ms/step - loss: 0.4468 - acc: 0.7842 - val_loss: 0.4686 - val_acc: 0.8006\n",
            "Epoch 2/10\n",
            "625/625 [==============================] - 21s 34ms/step - loss: 0.2599 - acc: 0.8989 - val_loss: 0.3580 - val_acc: 0.8488\n",
            "Epoch 3/10\n",
            "625/625 [==============================] - 13s 20ms/step - loss: 0.2061 - acc: 0.9238 - val_loss: 0.3066 - val_acc: 0.8688\n",
            "Epoch 4/10\n",
            "625/625 [==============================] - 11s 18ms/step - loss: 0.1657 - acc: 0.9413 - val_loss: 0.3196 - val_acc: 0.8746\n",
            "Epoch 5/10\n",
            "625/625 [==============================] - 11s 18ms/step - loss: 0.1375 - acc: 0.9542 - val_loss: 0.3452 - val_acc: 0.8848\n",
            "Epoch 6/10\n",
            "625/625 [==============================] - 9s 14ms/step - loss: 0.1178 - acc: 0.9605 - val_loss: 0.4084 - val_acc: 0.8832\n",
            "Epoch 7/10\n",
            "625/625 [==============================] - 9s 14ms/step - loss: 0.0983 - acc: 0.9682 - val_loss: 0.3572 - val_acc: 0.8630\n",
            "Epoch 8/10\n",
            "625/625 [==============================] - 10s 16ms/step - loss: 0.0846 - acc: 0.9720 - val_loss: 0.4451 - val_acc: 0.8676\n",
            "Epoch 9/10\n",
            "625/625 [==============================] - 8s 13ms/step - loss: 0.0721 - acc: 0.9768 - val_loss: 0.5224 - val_acc: 0.8450\n",
            "Epoch 10/10\n",
            "625/625 [==============================] - 9s 15ms/step - loss: 0.0624 - acc: 0.9809 - val_loss: 0.4854 - val_acc: 0.8618\n"
          ]
        }
      ]
    },
    {
      "cell_type": "code",
      "metadata": {
        "id": "KImNMWTDoJaQ",
        "colab": {
          "base_uri": "https://localhost:8080/"
        },
        "outputId": "a3e4bf1c-9d52-4038-9d43-814ce71a211d"
      },
      "source": [
        "results = model.evaluate(test_data, test_labels)\n",
        "print(results)"
      ],
      "execution_count": 11,
      "outputs": [
        {
          "output_type": "stream",
          "name": "stdout",
          "text": [
            "782/782 [==============================] - 4s 6ms/step - loss: 0.5162 - acc: 0.8532\n",
            "[0.5161711573600769, 0.8532400131225586]\n"
          ]
        }
      ]
    },
    {
      "cell_type": "code",
      "metadata": {
        "id": "Onu8leY4Cn9z",
        "colab": {
          "base_uri": "https://localhost:8080/"
        },
        "outputId": "41e35bd1-8242-4235-9eab-8c69efac78bd"
      },
      "source": [
        "word_index = imdb.get_word_index()\n",
        "\n",
        "def encode_text(text):\n",
        "  tokens = keras.preprocessing.text.text_to_word_sequence(text)\n",
        "  tokens = [word_index[word] if word in word_index else 0 for word in tokens]\n",
        "  return sequence.pad_sequences([tokens], MAXLEN)[0]\n",
        "\n",
        "text = \"that movie was just amazing, so amazing\"\n",
        "encoded = encode_text(text)\n",
        "print(encoded)\n"
      ],
      "execution_count": 12,
      "outputs": [
        {
          "output_type": "stream",
          "name": "stdout",
          "text": [
            "Downloading data from https://storage.googleapis.com/tensorflow/tf-keras-datasets/imdb_word_index.json\n",
            "1641221/1641221 [==============================] - 0s 0us/step\n",
            "[  0   0   0   0   0   0   0   0   0   0   0   0   0   0   0   0   0   0\n",
            "   0   0   0   0   0   0   0   0   0   0   0   0   0   0   0   0   0   0\n",
            "   0   0   0   0   0   0   0   0   0   0   0   0   0   0   0   0   0   0\n",
            "   0   0   0   0   0   0   0   0   0   0   0   0   0   0   0   0   0   0\n",
            "   0   0   0   0   0   0   0   0   0   0   0   0   0   0   0   0   0   0\n",
            "   0   0   0   0   0   0   0   0   0   0   0   0   0   0   0   0   0   0\n",
            "   0   0   0   0   0   0   0   0   0   0   0   0   0   0   0   0   0   0\n",
            "   0   0   0   0   0   0   0   0   0   0   0   0   0   0   0   0   0   0\n",
            "   0   0   0   0   0   0   0   0   0   0   0   0   0   0   0   0   0   0\n",
            "   0   0   0   0   0   0   0   0   0   0   0   0   0   0   0   0   0   0\n",
            "   0   0   0   0   0   0   0   0   0   0   0   0   0   0   0   0   0   0\n",
            "   0   0   0   0   0   0   0   0   0   0   0   0   0   0   0   0   0   0\n",
            "   0   0   0   0   0   0   0   0   0   0   0   0   0   0   0   0   0   0\n",
            "   0   0   0   0   0   0   0   0   0  12  17  13  40 477  35 477]\n"
          ]
        }
      ]
    },
    {
      "cell_type": "code",
      "metadata": {
        "id": "PKna3vxmFwrB",
        "colab": {
          "base_uri": "https://localhost:8080/"
        },
        "outputId": "4534a58b-8e4a-4f1a-88aa-477c4ba96e72"
      },
      "source": [
        "reverse_word_index = {value: key for (key, value) in word_index.items()}\n",
        "\n",
        "def decode_integers(integers):\n",
        "    PAD = 0\n",
        "    text = \"\"\n",
        "    for num in integers:\n",
        "      if num != PAD:\n",
        "        text += reverse_word_index[num] + \" \"\n",
        "\n",
        "    return text[:-1]\n",
        "\n",
        "print(decode_integers(encoded))"
      ],
      "execution_count": 13,
      "outputs": [
        {
          "output_type": "stream",
          "name": "stdout",
          "text": [
            "that movie was just amazing so amazing\n"
          ]
        }
      ]
    },
    {
      "cell_type": "code",
      "metadata": {
        "id": "L8nyrr00HPZF",
        "colab": {
          "base_uri": "https://localhost:8080/"
        },
        "outputId": "5177a74c-a619-4786-a462-e6e639c2240a"
      },
      "source": [
        "def predict(text):\n",
        "  encoded_text = encode_text(text)\n",
        "  pred = np.zeros((1,250))\n",
        "  pred[0] = encoded_text\n",
        "  result = model.predict(pred)\n",
        "  print(result[0])\n",
        "\n",
        "positive_review = \"That movie was! really loved it and would great watch it again because it was amazingly great\"\n",
        "predict(positive_review)\n",
        "\n",
        "negative_review = \"that movie really sucked. I hated it and wouldn't watch it again. Was one of the worst things I've ever watched\"\n",
        "predict(negative_review)\n"
      ],
      "execution_count": 14,
      "outputs": [
        {
          "output_type": "stream",
          "name": "stdout",
          "text": [
            "1/1 [==============================] - 0s 382ms/step\n",
            "[0.7985479]\n",
            "1/1 [==============================] - 0s 22ms/step\n",
            "[0.20503372]\n"
          ]
        }
      ]
    },
    {
      "cell_type": "code",
      "metadata": {
        "id": "fju7i1FKrK_G",
        "colab": {
          "base_uri": "https://localhost:8080/"
        },
        "outputId": "533a0353-86dc-43fb-e7ce-a82a60d08cd2"
      },
      "source": [
        "%tensorflow_version 2.x\n",
        "from keras.preprocessing import sequence\n",
        "import keras\n",
        "import tensorflow as tf\n",
        "import os\n",
        "import numpy as np"
      ],
      "execution_count": 15,
      "outputs": [
        {
          "output_type": "stream",
          "name": "stdout",
          "text": [
            "Colab only includes TensorFlow 2.x; %tensorflow_version has no effect.\n"
          ]
        }
      ]
    },
    {
      "cell_type": "code",
      "metadata": {
        "id": "IdRcVIhtRGlF",
        "colab": {
          "base_uri": "https://localhost:8080/"
        },
        "outputId": "d600e950-8a09-4547-dd96-285baeaa6042"
      },
      "source": [
        "path_to_file = tf.keras.utils.get_file('shakespeare.txt', 'https://storage.googleapis.com/download.tensorflow.org/data/shakespeare.txt')"
      ],
      "execution_count": 16,
      "outputs": [
        {
          "output_type": "stream",
          "name": "stdout",
          "text": [
            "Downloading data from https://storage.googleapis.com/download.tensorflow.org/data/shakespeare.txt\n",
            "1115394/1115394 [==============================] - 0s 0us/step\n"
          ]
        }
      ]
    },
    {
      "cell_type": "code",
      "metadata": {
        "id": "-n4oovOMRnP7",
        "colab": {
          "base_uri": "https://localhost:8080/"
        },
        "outputId": "40f61372-0133-4662-e18f-3891d6d58eba"
      },
      "source": [
        "text = open(path_to_file, 'rb').read().decode(encoding='utf-8')\n",
        "print ('Length of text: {} characters'.format(len(text)))"
      ],
      "execution_count": 20,
      "outputs": [
        {
          "output_type": "stream",
          "name": "stdout",
          "text": [
            "Length of text: 1115394 characters\n"
          ]
        }
      ]
    },
    {
      "cell_type": "code",
      "metadata": {
        "id": "KHUxQVl7Rt10",
        "colab": {
          "base_uri": "https://localhost:8080/"
        },
        "outputId": "de574b08-f3f6-445d-f285-1f4c720268bc"
      },
      "source": [
        "print(text[:250])"
      ],
      "execution_count": 21,
      "outputs": [
        {
          "output_type": "stream",
          "name": "stdout",
          "text": [
            "First Citizen:\n",
            "Before we proceed any further, hear me speak.\n",
            "\n",
            "All:\n",
            "Speak, speak.\n",
            "\n",
            "First Citizen:\n",
            "You are all resolved rather to die than to famish?\n",
            "\n",
            "All:\n",
            "Resolved. resolved.\n",
            "\n",
            "First Citizen:\n",
            "First, you know Caius Marcius is chief enemy to the people.\n",
            "\n"
          ]
        }
      ]
    },
    {
      "cell_type": "code",
      "metadata": {
        "id": "C7AZNI7aRz6y"
      },
      "source": [
        "vocab = sorted(set(text))\n",
        "char2idx = {u:i for i, u in enumerate(vocab)}\n",
        "idx2char = np.array(vocab)\n",
        "\n",
        "def text_to_int(text):\n",
        "  return np.array([char2idx[c] for c in text])\n",
        "\n",
        "text_as_int = text_to_int(text)"
      ],
      "execution_count": 22,
      "outputs": []
    },
    {
      "cell_type": "code",
      "metadata": {
        "id": "_i5kvmX_SLW4",
        "colab": {
          "base_uri": "https://localhost:8080/"
        },
        "outputId": "6aa8c731-64a9-49d4-ab1d-72494a130fcc"
      },
      "source": [
        "print(\"Text:\", text[:13])\n",
        "print(\"Encoded:\", text_to_int(text[:13]))"
      ],
      "execution_count": 23,
      "outputs": [
        {
          "output_type": "stream",
          "name": "stdout",
          "text": [
            "Text: First Citizen\n",
            "Encoded: [18 47 56 57 58  1 15 47 58 47 64 43 52]\n"
          ]
        }
      ]
    },
    {
      "cell_type": "code",
      "metadata": {
        "id": "Af52YChSW5hX",
        "colab": {
          "base_uri": "https://localhost:8080/"
        },
        "outputId": "eb7621b9-f8db-41e0-8c48-bbc0d9113a16"
      },
      "source": [
        "def int_to_text(ints):\n",
        "  try:\n",
        "    ints = ints.numpy()\n",
        "  except:\n",
        "    pass\n",
        "  return ''.join(idx2char[ints])\n",
        "\n",
        "print(int_to_text(text_as_int[:13]))"
      ],
      "execution_count": 24,
      "outputs": [
        {
          "output_type": "stream",
          "name": "stdout",
          "text": [
            "First Citizen\n"
          ]
        }
      ]
    },
    {
      "cell_type": "code",
      "metadata": {
        "id": "xBkXz9fjUQHW"
      },
      "source": [
        "seq_length = 100\n",
        "examples_per_epoch = len(text)//(seq_length+1)\n",
        "\n",
        "char_dataset = tf.data.Dataset.from_tensor_slices(text_as_int)"
      ],
      "execution_count": 25,
      "outputs": []
    },
    {
      "cell_type": "code",
      "metadata": {
        "id": "Xi0xaPB_VOJl"
      },
      "source": [
        "sequences = char_dataset.batch(seq_length+1, drop_remainder=True)"
      ],
      "execution_count": 26,
      "outputs": []
    },
    {
      "cell_type": "code",
      "metadata": {
        "id": "03zKVHTvV0Km"
      },
      "source": [
        "def split_input_target(chunk):\n",
        "    input_text = chunk[:-1]\n",
        "    target_text = chunk[1:]\n",
        "    return input_text, target_text\n",
        "\n",
        "dataset = sequences.map(split_input_target)"
      ],
      "execution_count": 27,
      "outputs": []
    },
    {
      "cell_type": "code",
      "metadata": {
        "id": "9p_y2YmgWbnc",
        "colab": {
          "base_uri": "https://localhost:8080/"
        },
        "outputId": "7311b89d-7e69-4631-e926-4bc8a349d94e"
      },
      "source": [
        "for x, y in dataset.take(2):\n",
        "  print(\"\\n\\nEXAMPLE\\n\")\n",
        "  print(\"INPUT\")\n",
        "  print(int_to_text(x))\n",
        "  print(\"\\nOUTPUT\")\n",
        "  print(int_to_text(y))"
      ],
      "execution_count": 28,
      "outputs": [
        {
          "output_type": "stream",
          "name": "stdout",
          "text": [
            "\n",
            "\n",
            "EXAMPLE\n",
            "\n",
            "INPUT\n",
            "First Citizen:\n",
            "Before we proceed any further, hear me speak.\n",
            "\n",
            "All:\n",
            "Speak, speak.\n",
            "\n",
            "First Citizen:\n",
            "You\n",
            "\n",
            "OUTPUT\n",
            "irst Citizen:\n",
            "Before we proceed any further, hear me speak.\n",
            "\n",
            "All:\n",
            "Speak, speak.\n",
            "\n",
            "First Citizen:\n",
            "You \n",
            "\n",
            "\n",
            "EXAMPLE\n",
            "\n",
            "INPUT\n",
            "are all resolved rather to die than to famish?\n",
            "\n",
            "All:\n",
            "Resolved. resolved.\n",
            "\n",
            "First Citizen:\n",
            "First, you \n",
            "\n",
            "OUTPUT\n",
            "re all resolved rather to die than to famish?\n",
            "\n",
            "All:\n",
            "Resolved. resolved.\n",
            "\n",
            "First Citizen:\n",
            "First, you k\n"
          ]
        }
      ]
    },
    {
      "cell_type": "code",
      "metadata": {
        "id": "cRsKcjhXXuoD"
      },
      "source": [
        "BATCH_SIZE = 64\n",
        "VOCAB_SIZE = len(vocab)\n",
        "EMBEDDING_DIM = 256\n",
        "RNN_UNITS = 1024\n",
        "\n",
        "BUFFER_SIZE = 10000\n",
        "\n",
        "data = dataset.shuffle(BUFFER_SIZE).batch(BATCH_SIZE, drop_remainder=True)"
      ],
      "execution_count": 29,
      "outputs": []
    },
    {
      "cell_type": "code",
      "metadata": {
        "id": "5v_P2dEic4qt",
        "colab": {
          "base_uri": "https://localhost:8080/"
        },
        "outputId": "1614e350-88b4-4f80-a00a-f4cb65858fa9"
      },
      "source": [
        "def build_model(vocab_size, embedding_dim, rnn_units, batch_size):\n",
        "  model = tf.keras.Sequential([\n",
        "    tf.keras.layers.Embedding(vocab_size, embedding_dim,\n",
        "                              batch_input_shape=[batch_size, None]),\n",
        "    tf.keras.layers.LSTM(rnn_units,\n",
        "                        return_sequences=True,\n",
        "                        stateful=True,\n",
        "                        recurrent_initializer='glorot_uniform'),\n",
        "    tf.keras.layers.Dense(vocab_size)\n",
        "  ])\n",
        "  return model\n",
        "\n",
        "model = build_model(VOCAB_SIZE,EMBEDDING_DIM, RNN_UNITS, BATCH_SIZE)\n",
        "model.summary()"
      ],
      "execution_count": 30,
      "outputs": [
        {
          "output_type": "stream",
          "name": "stdout",
          "text": [
            "Model: \"sequential_1\"\n",
            "_________________________________________________________________\n",
            " Layer (type)                Output Shape              Param #   \n",
            "=================================================================\n",
            " embedding_1 (Embedding)     (64, None, 256)           16640     \n",
            "                                                                 \n",
            " lstm_1 (LSTM)               (64, None, 1024)          5246976   \n",
            "                                                                 \n",
            " dense_1 (Dense)             (64, None, 65)            66625     \n",
            "                                                                 \n",
            "=================================================================\n",
            "Total params: 5330241 (20.33 MB)\n",
            "Trainable params: 5330241 (20.33 MB)\n",
            "Non-trainable params: 0 (0.00 Byte)\n",
            "_________________________________________________________________\n"
          ]
        }
      ]
    },
    {
      "cell_type": "code",
      "metadata": {
        "id": "KdvEqlwc6_q0",
        "colab": {
          "base_uri": "https://localhost:8080/"
        },
        "outputId": "be5a7f4f-83c5-4cbf-cc50-9d0f73791c1a"
      },
      "source": [
        "for input_example_batch, target_example_batch in data.take(1):\n",
        "  example_batch_predictions = model(input_example_batch)\n",
        "  print(example_batch_predictions.shape, \"# (batch_size, sequence_length, vocab_size)\")"
      ],
      "execution_count": 31,
      "outputs": [
        {
          "output_type": "stream",
          "name": "stdout",
          "text": [
            "(64, 100, 65) # (batch_size, sequence_length, vocab_size)\n"
          ]
        }
      ]
    },
    {
      "cell_type": "code",
      "metadata": {
        "id": "RQS5KXwi7_NX",
        "colab": {
          "base_uri": "https://localhost:8080/"
        },
        "outputId": "e4647560-7d99-439e-c5f4-581677df19ff"
      },
      "source": [
        "print(len(example_batch_predictions))\n",
        "print(example_batch_predictions)"
      ],
      "execution_count": 32,
      "outputs": [
        {
          "output_type": "stream",
          "name": "stdout",
          "text": [
            "64\n",
            "tf.Tensor(\n",
            "[[[-8.15747865e-03 -1.35391019e-06  1.14449253e-03 ... -1.32502243e-03\n",
            "   -5.24216751e-03  7.67838734e-04]\n",
            "  [-1.34305703e-02  5.55186300e-04  2.10098480e-03 ... -1.94025878e-03\n",
            "   -8.35364498e-03  3.62284540e-04]\n",
            "  [-6.67867158e-03  1.40177552e-04  4.10584733e-03 ... -4.41675889e-04\n",
            "   -8.79227556e-03 -2.53327051e-03]\n",
            "  ...\n",
            "  [-1.10942554e-02 -1.36496816e-02  2.19650246e-04 ...  2.29731435e-03\n",
            "   -8.60241428e-03  9.94815119e-03]\n",
            "  [-7.48286583e-03 -1.23481266e-02  2.29419116e-03 ...  4.11031302e-04\n",
            "   -1.18452311e-02  9.47261788e-03]\n",
            "  [-3.77998361e-03 -1.74148008e-03  3.51601117e-03 ...  9.99502605e-04\n",
            "   -8.04776326e-03  1.67720094e-02]]\n",
            "\n",
            " [[ 2.05025007e-03 -1.09260366e-03  2.48017930e-03 ...  3.19585903e-04\n",
            "   -3.95764690e-03 -1.18319178e-03]\n",
            "  [-4.77192039e-03 -2.16503628e-04  1.04959472e-03 ... -2.17552250e-03\n",
            "    1.84106175e-03 -4.74307267e-03]\n",
            "  [-2.23298091e-03 -1.32282451e-03  3.83838266e-03 ... -1.16633601e-03\n",
            "   -2.58296053e-03 -3.87801393e-03]\n",
            "  ...\n",
            "  [-1.23969261e-02 -2.66871019e-03 -1.36526767e-04 ... -6.91398222e-04\n",
            "    3.59847164e-03  4.71349247e-03]\n",
            "  [-1.36748161e-02  3.97651689e-04  2.87699839e-03 ... -2.94159702e-03\n",
            "    2.49967421e-03  7.20486138e-03]\n",
            "  [-1.39828818e-02  2.60275672e-03  5.88653795e-03 ... -6.51565660e-03\n",
            "   -1.23945624e-03  5.85231883e-03]]\n",
            "\n",
            " [[ 3.34581872e-03  8.26015882e-03  1.72280776e-03 ...  1.64365664e-03\n",
            "    2.03229347e-03  6.68750051e-03]\n",
            "  [-7.08659692e-03  1.80333806e-03  8.49566190e-04 ... -8.53609759e-03\n",
            "    4.39829007e-03  7.07446411e-03]\n",
            "  [-3.18461796e-03 -2.17780005e-04  3.32594127e-03 ... -6.57850271e-03\n",
            "   -9.63262282e-04  5.44863567e-03]\n",
            "  ...\n",
            "  [-1.21100731e-02 -7.02660950e-03  1.02963438e-03 ... -1.36947259e-02\n",
            "   -1.13931540e-02  1.26478160e-02]\n",
            "  [-1.28649771e-02 -9.18810256e-03 -1.30595500e-03 ... -1.71524491e-02\n",
            "   -1.09942788e-02  1.26684615e-02]\n",
            "  [-7.22536445e-03 -1.50759588e-04  6.20396808e-04 ... -1.16970651e-02\n",
            "   -6.88277883e-03  1.91096440e-02]]\n",
            "\n",
            " ...\n",
            "\n",
            " [[ 2.05025007e-03 -1.09260366e-03  2.48017930e-03 ...  3.19585903e-04\n",
            "   -3.95764690e-03 -1.18319178e-03]\n",
            "  [ 6.18411368e-03 -7.73355947e-04  2.92310258e-03 ...  5.80559764e-03\n",
            "   -3.20603186e-03 -4.77412296e-03]\n",
            "  [-1.78139633e-03  6.67249085e-04  7.72156403e-04 ...  1.93252054e-03\n",
            "    1.63875078e-03 -7.36801140e-03]\n",
            "  ...\n",
            "  [-6.56346465e-03 -8.78416351e-04  4.98544239e-03 ... -8.35195743e-03\n",
            "   -6.42801635e-03  1.23476684e-02]\n",
            "  [-7.91208167e-03  4.14919457e-04  7.43954163e-03 ... -1.00207571e-02\n",
            "   -8.72944109e-03  1.01946658e-02]\n",
            "  [-8.89417995e-03 -3.19972821e-03  2.68622069e-03 ... -1.37666427e-02\n",
            "   -1.01578925e-02  1.00590196e-02]]\n",
            "\n",
            " [[ 2.05025007e-03 -1.09260366e-03  2.48017930e-03 ...  3.19585903e-04\n",
            "   -3.95764690e-03 -1.18319178e-03]\n",
            "  [ 3.41833860e-04  4.65560588e-05  3.01480433e-03 ... -3.46593931e-03\n",
            "   -4.62039514e-03  1.97193096e-03]\n",
            "  [ 1.18058466e-03 -5.04704798e-03 -5.93523961e-04 ...  4.26820014e-03\n",
            "   -1.47992489e-03 -1.97166018e-03]\n",
            "  ...\n",
            "  [ 4.52137459e-03 -5.62141696e-03  6.80016214e-03 ... -8.35825969e-03\n",
            "   -1.01007037e-02  7.84824486e-04]\n",
            "  [-4.30768728e-03 -6.20943680e-03  5.46006300e-03 ... -4.07364499e-03\n",
            "   -1.30345244e-02  3.49367247e-03]\n",
            "  [-9.38212313e-03 -3.59259825e-03  3.02529405e-03 ... -5.26243169e-03\n",
            "   -5.69334719e-03 -4.59121540e-04]]\n",
            "\n",
            " [[-7.55021302e-03 -3.36811412e-03  2.20988644e-04 ...  1.56616932e-03\n",
            "   -4.56055161e-03  1.05423969e-03]\n",
            "  [-2.93489336e-03 -2.29441654e-03 -1.66094993e-04 ...  1.32831756e-03\n",
            "    2.25343369e-03 -1.39016192e-03]\n",
            "  [-6.18151575e-03 -4.40365169e-03  1.31842319e-03 ...  4.82298620e-03\n",
            "    2.40376359e-03 -1.05252629e-03]\n",
            "  ...\n",
            "  [-1.02243070e-02  1.40934926e-03  5.24471514e-04 ... -1.06626404e-02\n",
            "   -1.40447076e-02  8.45689047e-03]\n",
            "  [-1.76065303e-02  1.93518354e-04  1.58871198e-03 ... -9.67158284e-03\n",
            "   -1.65364854e-02  9.11726058e-03]\n",
            "  [-2.19325051e-02  1.05486251e-05  2.52762344e-03 ... -8.42207484e-03\n",
            "   -1.72618292e-02  8.25642422e-03]]], shape=(64, 100, 65), dtype=float32)\n"
          ]
        }
      ]
    },
    {
      "cell_type": "code",
      "metadata": {
        "id": "sA1Zhop28V9n",
        "colab": {
          "base_uri": "https://localhost:8080/"
        },
        "outputId": "c0deb26c-2594-43e4-cac0-f6e86b08f683"
      },
      "source": [
        "pred = example_batch_predictions[0]\n",
        "print(len(pred))\n",
        "print(pred)"
      ],
      "execution_count": 33,
      "outputs": [
        {
          "output_type": "stream",
          "name": "stdout",
          "text": [
            "100\n",
            "tf.Tensor(\n",
            "[[-8.1574786e-03 -1.3539102e-06  1.1444925e-03 ... -1.3250224e-03\n",
            "  -5.2421675e-03  7.6783873e-04]\n",
            " [-1.3430570e-02  5.5518630e-04  2.1009848e-03 ... -1.9402588e-03\n",
            "  -8.3536450e-03  3.6228454e-04]\n",
            " [-6.6786716e-03  1.4017755e-04  4.1058473e-03 ... -4.4167589e-04\n",
            "  -8.7922756e-03 -2.5332705e-03]\n",
            " ...\n",
            " [-1.1094255e-02 -1.3649682e-02  2.1965025e-04 ...  2.2973143e-03\n",
            "  -8.6024143e-03  9.9481512e-03]\n",
            " [-7.4828658e-03 -1.2348127e-02  2.2941912e-03 ...  4.1103130e-04\n",
            "  -1.1845231e-02  9.4726179e-03]\n",
            " [-3.7799836e-03 -1.7414801e-03  3.5160112e-03 ...  9.9950260e-04\n",
            "  -8.0477633e-03  1.6772009e-02]], shape=(100, 65), dtype=float32)\n"
          ]
        }
      ]
    },
    {
      "cell_type": "code",
      "metadata": {
        "id": "UbIoe7Ei8q3q",
        "colab": {
          "base_uri": "https://localhost:8080/"
        },
        "outputId": "09344fe0-db06-4d02-adaa-eddc793db9e7"
      },
      "source": [
        "time_pred = pred[0]\n",
        "print(len(time_pred))\n",
        "print(time_pred)"
      ],
      "execution_count": 34,
      "outputs": [
        {
          "output_type": "stream",
          "name": "stdout",
          "text": [
            "65\n",
            "tf.Tensor(\n",
            "[-8.1574786e-03 -1.3539102e-06  1.1444925e-03 -1.7167985e-03\n",
            "  4.3778569e-03 -2.5633322e-03  7.2458410e-04  3.6923867e-03\n",
            " -6.6295732e-05 -6.1235239e-04  3.9210785e-03 -1.5579890e-03\n",
            "  2.3955351e-03 -1.4074664e-03 -1.4382487e-03  1.6282750e-03\n",
            "  1.7186975e-03 -3.7777319e-04 -2.0556690e-03 -1.3635994e-04\n",
            " -3.0891580e-04  5.3930115e-03 -9.7390059e-03 -2.0587675e-03\n",
            "  3.1488070e-03  2.2850400e-03  1.5404730e-03  5.6796451e-04\n",
            " -1.0539750e-03  2.0338094e-03  2.4737583e-03  2.2069365e-03\n",
            " -4.6038148e-03 -3.8246287e-03  2.7626543e-03  1.1785985e-03\n",
            "  9.6149812e-04 -1.4871145e-03 -1.0427989e-03 -2.6329840e-03\n",
            " -4.2471918e-03 -3.0928706e-03 -5.6653598e-04 -1.0506634e-03\n",
            " -8.9503173e-04  4.6005445e-03 -2.7194067e-03 -5.2113058e-03\n",
            "  6.7632500e-05  1.9926112e-03 -3.7723761e-03 -3.6358708e-03\n",
            " -1.2588062e-03 -9.2197908e-04 -2.8939620e-03  1.6265031e-03\n",
            "  2.7170838e-03 -1.5973031e-03  1.1784624e-03  6.1452284e-04\n",
            "  7.7424262e-04 -1.6286987e-03 -1.3250224e-03 -5.2421675e-03\n",
            "  7.6783873e-04], shape=(65,), dtype=float32)\n"
          ]
        }
      ]
    },
    {
      "cell_type": "code",
      "metadata": {
        "id": "qlEYM1H995gR",
        "colab": {
          "base_uri": "https://localhost:8080/",
          "height": 35
        },
        "outputId": "f8498f35-a71a-4672-be4d-2415e650e2c5"
      },
      "source": [
        "sampled_indices = tf.random.categorical(pred, num_samples=1)\n",
        "\n",
        "sampled_indices = np.reshape(sampled_indices, (1, -1))[0]\n",
        "predicted_chars = int_to_text(sampled_indices)\n",
        "\n",
        "predicted_chars"
      ],
      "execution_count": 35,
      "outputs": [
        {
          "output_type": "execute_result",
          "data": {
            "text/plain": [
              "\"nmVthAgz.'xNd\\nZJYgZT- Z!UiUE!c.3f-:M3gAefVMMVPxSMldJjKism \\nmIoD3QnsYRAYU.MiQcN'nHh.qPcfJkhK&LK\\n? ?Sc\""
            ],
            "application/vnd.google.colaboratory.intrinsic+json": {
              "type": "string"
            }
          },
          "metadata": {},
          "execution_count": 35
        }
      ]
    },
    {
      "cell_type": "code",
      "metadata": {
        "id": "ZOw23fWq9D9O"
      },
      "source": [
        "def loss(labels, logits):\n",
        "  return tf.keras.losses.sparse_categorical_crossentropy(labels, logits, from_logits=True)"
      ],
      "execution_count": 36,
      "outputs": []
    },
    {
      "cell_type": "code",
      "metadata": {
        "id": "9g6o7zA_hAiS"
      },
      "source": [
        "model.compile(optimizer='adam', loss=loss)"
      ],
      "execution_count": 37,
      "outputs": []
    },
    {
      "cell_type": "code",
      "metadata": {
        "id": "v7aMushYjSpy"
      },
      "source": [
        "checkpoint_dir = './training_checkpoints'\n",
        "checkpoint_prefix = os.path.join(checkpoint_dir, \"ckpt_{epoch}\")\n",
        "\n",
        "checkpoint_callback=tf.keras.callbacks.ModelCheckpoint(\n",
        "    filepath=checkpoint_prefix,\n",
        "    save_weights_only=True)"
      ],
      "execution_count": 38,
      "outputs": []
    },
    {
      "cell_type": "code",
      "metadata": {
        "id": "R4PAgrwMjZ4_",
        "colab": {
          "base_uri": "https://localhost:8080/"
        },
        "outputId": "f2b00153-e457-4efa-bcb9-8339d333ade6"
      },
      "source": [
        "history = model.fit(data, epochs=50, callbacks=[checkpoint_callback])"
      ],
      "execution_count": 39,
      "outputs": [
        {
          "output_type": "stream",
          "name": "stdout",
          "text": [
            "Epoch 1/50\n",
            "172/172 [==============================] - 17s 70ms/step - loss: 2.6043\n",
            "Epoch 2/50\n",
            "172/172 [==============================] - 13s 68ms/step - loss: 1.8876\n",
            "Epoch 3/50\n",
            "172/172 [==============================] - 14s 69ms/step - loss: 1.6411\n",
            "Epoch 4/50\n",
            "172/172 [==============================] - 14s 70ms/step - loss: 1.5114\n",
            "Epoch 5/50\n",
            "172/172 [==============================] - 14s 70ms/step - loss: 1.4321\n",
            "Epoch 6/50\n",
            "172/172 [==============================] - 14s 69ms/step - loss: 1.3773\n",
            "Epoch 7/50\n",
            "172/172 [==============================] - 13s 69ms/step - loss: 1.3335\n",
            "Epoch 8/50\n",
            "172/172 [==============================] - 13s 68ms/step - loss: 1.2972\n",
            "Epoch 9/50\n",
            "172/172 [==============================] - 13s 68ms/step - loss: 1.2631\n",
            "Epoch 10/50\n",
            "172/172 [==============================] - 13s 69ms/step - loss: 1.2310\n",
            "Epoch 11/50\n",
            "172/172 [==============================] - 13s 69ms/step - loss: 1.1992\n",
            "Epoch 12/50\n",
            "172/172 [==============================] - 14s 70ms/step - loss: 1.1674\n",
            "Epoch 13/50\n",
            "172/172 [==============================] - 13s 69ms/step - loss: 1.1339\n",
            "Epoch 14/50\n",
            "172/172 [==============================] - 13s 69ms/step - loss: 1.1002\n",
            "Epoch 15/50\n",
            "172/172 [==============================] - 14s 69ms/step - loss: 1.0640\n",
            "Epoch 16/50\n",
            "172/172 [==============================] - 14s 69ms/step - loss: 1.0270\n",
            "Epoch 17/50\n",
            "172/172 [==============================] - 13s 69ms/step - loss: 0.9883\n",
            "Epoch 18/50\n",
            "172/172 [==============================] - 14s 70ms/step - loss: 0.9504\n",
            "Epoch 19/50\n",
            "172/172 [==============================] - 14s 70ms/step - loss: 0.9116\n",
            "Epoch 20/50\n",
            "172/172 [==============================] - 14s 70ms/step - loss: 0.8725\n",
            "Epoch 21/50\n",
            "172/172 [==============================] - 14s 69ms/step - loss: 0.8376\n",
            "Epoch 22/50\n",
            "172/172 [==============================] - 13s 69ms/step - loss: 0.8022\n",
            "Epoch 23/50\n",
            "172/172 [==============================] - 13s 68ms/step - loss: 0.7689\n",
            "Epoch 24/50\n",
            "172/172 [==============================] - 14s 69ms/step - loss: 0.7397\n",
            "Epoch 25/50\n",
            "172/172 [==============================] - 14s 70ms/step - loss: 0.7099\n",
            "Epoch 26/50\n",
            "172/172 [==============================] - 14s 70ms/step - loss: 0.6818\n",
            "Epoch 27/50\n",
            "172/172 [==============================] - 13s 68ms/step - loss: 0.6577\n",
            "Epoch 28/50\n",
            "172/172 [==============================] - 13s 69ms/step - loss: 0.6347\n",
            "Epoch 29/50\n",
            "172/172 [==============================] - 13s 69ms/step - loss: 0.6140\n",
            "Epoch 30/50\n",
            "172/172 [==============================] - 14s 70ms/step - loss: 0.5954\n",
            "Epoch 31/50\n",
            "172/172 [==============================] - 15s 69ms/step - loss: 0.5799\n",
            "Epoch 32/50\n",
            "172/172 [==============================] - 14s 70ms/step - loss: 0.5627\n",
            "Epoch 33/50\n",
            "172/172 [==============================] - 13s 69ms/step - loss: 0.5501\n",
            "Epoch 34/50\n",
            "172/172 [==============================] - 14s 69ms/step - loss: 0.5360\n",
            "Epoch 35/50\n",
            "172/172 [==============================] - 15s 70ms/step - loss: 0.5236\n",
            "Epoch 36/50\n",
            "172/172 [==============================] - 13s 69ms/step - loss: 0.5125\n",
            "Epoch 37/50\n",
            "172/172 [==============================] - 14s 70ms/step - loss: 0.5036\n",
            "Epoch 38/50\n",
            "172/172 [==============================] - 13s 70ms/step - loss: 0.4961\n",
            "Epoch 39/50\n",
            "172/172 [==============================] - 13s 68ms/step - loss: 0.4878\n",
            "Epoch 40/50\n",
            "172/172 [==============================] - 14s 69ms/step - loss: 0.4804\n",
            "Epoch 41/50\n",
            "172/172 [==============================] - 13s 69ms/step - loss: 0.4730\n",
            "Epoch 42/50\n",
            "172/172 [==============================] - 13s 69ms/step - loss: 0.4668\n",
            "Epoch 43/50\n",
            "172/172 [==============================] - 14s 70ms/step - loss: 0.4587\n",
            "Epoch 44/50\n",
            "172/172 [==============================] - 14s 69ms/step - loss: 0.4547\n",
            "Epoch 45/50\n",
            "172/172 [==============================] - 13s 68ms/step - loss: 0.4493\n",
            "Epoch 46/50\n",
            "172/172 [==============================] - 14s 70ms/step - loss: 0.4452\n",
            "Epoch 47/50\n",
            "172/172 [==============================] - 14s 69ms/step - loss: 0.4411\n",
            "Epoch 48/50\n",
            "172/172 [==============================] - 14s 70ms/step - loss: 0.4390\n",
            "Epoch 49/50\n",
            "172/172 [==============================] - 14s 69ms/step - loss: 0.4342\n",
            "Epoch 50/50\n",
            "172/172 [==============================] - 14s 69ms/step - loss: 0.4316\n"
          ]
        }
      ]
    },
    {
      "cell_type": "code",
      "metadata": {
        "id": "TPSto3uimSKp"
      },
      "source": [
        "model = build_model(VOCAB_SIZE, EMBEDDING_DIM, RNN_UNITS, batch_size=1)"
      ],
      "execution_count": 40,
      "outputs": []
    },
    {
      "cell_type": "code",
      "metadata": {
        "id": "PZIEZWE4mNKl"
      },
      "source": [
        "model.load_weights(tf.train.latest_checkpoint(checkpoint_dir))\n",
        "model.build(tf.TensorShape([1, None]))"
      ],
      "execution_count": 41,
      "outputs": []
    },
    {
      "cell_type": "code",
      "metadata": {
        "id": "oPSALdQXA3l3"
      },
      "source": [
        "def generate_text(model, start_string):\n",
        "\n",
        "  num_generate = 800\n",
        "\n",
        "  input_eval = [char2idx[s] for s in start_string]\n",
        "  input_eval = tf.expand_dims(input_eval, 0)\n",
        "\n",
        "  text_generated = []\n",
        "\n",
        "  temperature = 1.0\n",
        "\n",
        "  model.reset_states()\n",
        "  for i in range(num_generate):\n",
        "      predictions = model(input_eval)\n",
        "\n",
        "      predictions = tf.squeeze(predictions, 0)\n",
        "\n",
        "      predictions = predictions / temperature\n",
        "      predicted_id = tf.random.categorical(predictions, num_samples=1)[-1,0].numpy()\n",
        "\n",
        "      input_eval = tf.expand_dims([predicted_id], 0)\n",
        "\n",
        "      text_generated.append(idx2char[predicted_id])\n",
        "\n",
        "  return (start_string + ''.join(text_generated))"
      ],
      "execution_count": 43,
      "outputs": []
    },
    {
      "cell_type": "code",
      "metadata": {
        "id": "cAJqhD9AA5mF",
        "colab": {
          "base_uri": "https://localhost:8080/"
        },
        "outputId": "b405bff4-2f96-45dc-f542-1dec1fe6255e"
      },
      "source": [
        "inp = input(\"Type a starting string: \")\n",
        "print(generate_text(model, inp))"
      ],
      "execution_count": 44,
      "outputs": [
        {
          "output_type": "stream",
          "name": "stdout",
          "text": [
            "Type a starting string: Once upon a time\n",
            "Once upon a time\n",
            "Cuts off the travellern part.\n",
            "\n",
            "BIONDELLO:\n",
            "Faith, my master good, more companions, in those courteous maids\n",
            "Shall push in Longet.\n",
            "\n",
            "RICHARD:\n",
            "A very merry ope thy second Gaunt,\n",
            "When still raged in his finger:\n",
            "Since we have power to certain as we looker us, but break his strength,\n",
            "But yet my brother York, as thrive I reck on thee.\n",
            "\n",
            "RATCLIFF:\n",
            "Richard well; Sweever and characters of man,\n",
            "The tribunes cannot make, and beat me due.\n",
            "\n",
            "DUKE OF AUMERLE:\n",
            "Where is no commither.\n",
            "\n",
            "MARCIUS:\n",
            "Fighthat tides now approach:\n",
            "I cannot do it, you are well under war!\n",
            "\n",
            "LUCENTIO:\n",
            "I thank your worship's hand.\n",
            "\n",
            "DUKE VINCENTIO:\n",
            "He does not for the temper'd traitor lay.\n",
            "\n",
            "ROMEO:\n",
            "O, speak you whit:\n",
            "Starm like a kneel'd. and hath the few befall'nts,\n",
            "The pretent at Philip, rest\n",
            "And to my heart to touch a thorny; but instead\n"
          ]
        }
      ]
    }
  ]
}